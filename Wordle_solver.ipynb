{
 "cells": [
  {
   "cell_type": "markdown",
   "metadata": {},
   "source": [
    "# Wordle solver"
   ]
  },
  {
   "cell_type": "markdown",
   "metadata": {},
   "source": [
    "## Importing pandas and making a dataframe using a csv file\n",
    "The csv file was made using a dictionaray which consists of only 5 words"
   ]
  },
  {
   "cell_type": "code",
   "execution_count": 9,
   "metadata": {},
   "outputs": [],
   "source": [
    "import pandas as pd\n",
    "df = pd.DataFrame(pd.read_csv('./sgb-words.csv'))\n"
   ]
  },
  {
   "cell_type": "markdown",
   "metadata": {},
   "source": [
    "### Function to take input and return them"
   ]
  },
  {
   "cell_type": "code",
   "execution_count": 10,
   "metadata": {},
   "outputs": [],
   "source": [
    "def input_taker():\n",
    "    first_word = input('Have you found first character?, press escape if not')\n",
    "    second_word = input('Have you found second character? press escape if not')\n",
    "    third_word = input('Have you found third character? press escape if not')\n",
    "    fourth_word = input('Have you found fourth character? press escape if not')\n",
    "    fifth_word = input('Have you found fifth character? press escape if not')\n",
    "    return(first_word, second_word, third_word, fourth_word, fifth_word)\n"
   ]
  },
  {
   "cell_type": "markdown",
   "metadata": {},
   "source": [
    "### Triggring the function and adding the data to the variables"
   ]
  },
  {
   "cell_type": "code",
   "execution_count": 11,
   "metadata": {},
   "outputs": [],
   "source": [
    "first_word, second_word, third_word, fourth_word, fifth_word = input_taker()\n"
   ]
  },
  {
   "cell_type": "markdown",
   "metadata": {},
   "source": [
    "## Making array of words which consists the first word on first position"
   ]
  },
  {
   "cell_type": "code",
   "execution_count": 12,
   "metadata": {},
   "outputs": [],
   "source": [
    "first_letter_array = []\n",
    "for i in range(len(df)):\n",
    "    if(df['Words'][i][0] == first_word):\n",
    "        first_letter_array.append(df['Words'][i])\n"
   ]
  },
  {
   "cell_type": "markdown",
   "metadata": {},
   "source": [
    "### Setting the first letter array to all possible words if the first word is not found"
   ]
  },
  {
   "cell_type": "code",
   "execution_count": 13,
   "metadata": {},
   "outputs": [],
   "source": [
    "if(len(first_letter_array) == 0):\n",
    "    first_letter_array = df['Words']\n"
   ]
  },
  {
   "cell_type": "code",
   "execution_count": 14,
   "metadata": {},
   "outputs": [],
   "source": [
    "second_letter_array = []\n",
    "second_letter_array_testing=[]\n",
    "for i in range(len(df)):\n",
    "    if(df['Words'][i][1] == second_word):\n",
    "        second_letter_array.append(df['Words'][i])\n",
    "# output_list = [second_letter_array.append(df['Words'][i]) if df['Words'][i][1] == second_word else 0 for x in input_list]\n",
    "# second_letter_array_testing = [(df['Words'][i]) if df['Words'][i][1] == second_word else df['Words'] for i in range(len(df))]"
   ]
  },
  {
   "cell_type": "code",
   "execution_count": 15,
   "metadata": {},
   "outputs": [],
   "source": [
    "if(len(second_letter_array) == 0):\n",
    "    second_letter_array = df['Words']\n"
   ]
  },
  {
   "cell_type": "code",
   "execution_count": 16,
   "metadata": {},
   "outputs": [],
   "source": [
    "third_letter_array = []\n",
    "for i in range(len(df)):\n",
    "    if(df['Words'][i][2] == third_word):\n",
    "        third_letter_array.append(df['Words'][i])\n"
   ]
  },
  {
   "cell_type": "code",
   "execution_count": 17,
   "metadata": {},
   "outputs": [],
   "source": [
    "if(len(third_letter_array) == 0):\n",
    "    third_letter_array = df['Words']\n"
   ]
  },
  {
   "cell_type": "code",
   "execution_count": 18,
   "metadata": {},
   "outputs": [],
   "source": [
    "fourth_letter_array = []\n",
    "for i in range(len(df)):\n",
    "    if(df['Words'][i][3] == fourth_word):\n",
    "        fourth_letter_array.append(df['Words'][i])\n"
   ]
  },
  {
   "cell_type": "code",
   "execution_count": 19,
   "metadata": {},
   "outputs": [],
   "source": [
    "if(len(fourth_letter_array) == 0):\n",
    "    fourth_letter_array = df['Words']\n"
   ]
  },
  {
   "cell_type": "code",
   "execution_count": 20,
   "metadata": {},
   "outputs": [],
   "source": [
    "fifth_letter_array = []\n",
    "for i in range(len(df)):\n",
    "    if(df['Words'][i][4] == fifth_word):\n",
    "        fifth_letter_array.append(df['Words'][i])\n"
   ]
  },
  {
   "cell_type": "code",
   "execution_count": 21,
   "metadata": {},
   "outputs": [],
   "source": [
    "if(len(fifth_letter_array) == 0):\n",
    "    fifth_letter_array = df['Words']\n"
   ]
  },
  {
   "cell_type": "markdown",
   "metadata": {},
   "source": [
    "## Taking an intersection of 5 arrays"
   ]
  },
  {
   "cell_type": "code",
   "execution_count": 22,
   "metadata": {},
   "outputs": [],
   "source": [
    "def final_array():\n",
    "    final = list(set(first_letter_array) & set(second_letter_array))\n",
    "    intermediate = list(set(fourth_letter_array) & set(third_letter_array))\n",
    "    final = list(set(final) & set(fifth_letter_array))\n",
    "    final = list(set(final) & set(intermediate))\n",
    "    return final\n",
    "\n",
    "\n",
    "possible_array = final_array()\n"
   ]
  },
  {
   "cell_type": "code",
   "execution_count": 23,
   "metadata": {},
   "outputs": [],
   "source": [
    "if(len(possible_array) == 0):\n",
    "    print('Did not found any matching words :(')\n"
   ]
  },
  {
   "cell_type": "markdown",
   "metadata": {},
   "source": [
    "## Making and array of words which are not in the final word"
   ]
  },
  {
   "cell_type": "code",
   "execution_count": 24,
   "metadata": {},
   "outputs": [],
   "source": [
    "total_gray_letter = input(\n",
    "    \"enter number of gray characters in the wordle: \")\n",
    "if(len(total_gray_letter) == 0):\n",
    "    print('The possible words are:', possible_array)\n"
   ]
  },
  {
   "cell_type": "code",
   "execution_count": 25,
   "metadata": {},
   "outputs": [],
   "source": [
    "gray_letters = []\n",
    "for i in range(int(total_gray_letter)):\n",
    "    gray_letters.append(\n",
    "        input(\"enter the gray characters : \"))\n"
   ]
  },
  {
   "cell_type": "code",
   "execution_count": 26,
   "metadata": {},
   "outputs": [],
   "source": [
    "omitted_letter_array = []\n"
   ]
  },
  {
   "cell_type": "code",
   "execution_count": 27,
   "metadata": {},
   "outputs": [],
   "source": [
    "for i in range(len(gray_letters)):\n",
    "    for k in range(len(possible_array)):\n",
    "        if(gray_letters[i] in possible_array[k]):\n",
    "            omitted_letter_array.append(possible_array[k])\n"
   ]
  },
  {
   "cell_type": "code",
   "execution_count": 28,
   "metadata": {},
   "outputs": [],
   "source": [
    "omitted_letter_array = list(set(omitted_letter_array))\n"
   ]
  },
  {
   "cell_type": "markdown",
   "metadata": {},
   "source": [
    "### Function to remove common from omitted array and final array"
   ]
  },
  {
   "cell_type": "code",
   "execution_count": 29,
   "metadata": {},
   "outputs": [],
   "source": [
    "def remove_common(a, b):\n",
    "\n",
    "    for i in a[:]:\n",
    "        if i in b:\n",
    "            a.remove(i)\n",
    "            b.remove(i)\n",
    "    return a\n"
   ]
  },
  {
   "cell_type": "code",
   "execution_count": 30,
   "metadata": {},
   "outputs": [],
   "source": [
    "final = remove_common(possible_array, omitted_letter_array)\n"
   ]
  },
  {
   "cell_type": "code",
   "execution_count": 31,
   "metadata": {},
   "outputs": [],
   "source": [
    "total_yellow_letter = input(\"enter number of yellow characters : \")\n",
    "if(len(total_yellow_letter) == 0):\n",
    "    print('The possible words are:', possible_array)\n"
   ]
  },
  {
   "cell_type": "code",
   "execution_count": 32,
   "metadata": {},
   "outputs": [],
   "source": [
    "yellow_letters = []\n",
    "for i in range(int(total_yellow_letter)):\n",
    "    yellow_letters.append(input(\"enter the yellow characters : \"))\n"
   ]
  },
  {
   "cell_type": "markdown",
   "metadata": {},
   "source": [
    "## Keeping only words which contains yellow letters"
   ]
  },
  {
   "cell_type": "code",
   "execution_count": 33,
   "metadata": {},
   "outputs": [],
   "source": [
    "target_characters_set=set(yellow_letters)\n",
    "result=[]\n",
    "\n",
    "for word in final:\n",
    "    word_set=set()\n",
    "    for char in word:\n",
    "        word_set.add(char)\n",
    "    if len(target_characters_set-word_set)==0:\n",
    "        result.append(word)"
   ]
  },
  {
   "cell_type": "markdown",
   "metadata": {},
   "source": [
    "# Final Output"
   ]
  },
  {
   "cell_type": "code",
   "execution_count": 34,
   "metadata": {},
   "outputs": [
    {
     "name": "stdout",
     "output_type": "stream",
     "text": [
      "All the possible words are:  ['piety']\n"
     ]
    }
   ],
   "source": [
    "print('All the possible words are: ', list(set(result)))\n"
   ]
  }
 ],
 "metadata": {
  "interpreter": {
   "hash": "87d9b9d1e678527538d8142a74b02950316a4861c664997bcf14b93b840e5ec0"
  },
  "kernelspec": {
   "display_name": "Python 3.9.5 64-bit",
   "language": "python",
   "name": "python3"
  },
  "language_info": {
   "codemirror_mode": {
    "name": "ipython",
    "version": 3
   },
   "file_extension": ".py",
   "mimetype": "text/x-python",
   "name": "python",
   "nbconvert_exporter": "python",
   "pygments_lexer": "ipython3",
   "version": "3.9.5"
  },
  "orig_nbformat": 4
 },
 "nbformat": 4,
 "nbformat_minor": 2
}
