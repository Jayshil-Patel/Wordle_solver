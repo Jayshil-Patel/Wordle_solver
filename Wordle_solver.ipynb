{
 "cells": [
  {
   "cell_type": "markdown",
   "metadata": {},
   "source": [
    "# Wordle solver"
   ]
  },
  {
   "cell_type": "markdown",
   "metadata": {},
   "source": [
    "## Importing pandas and making a dataframe using a csv file\n",
    "The csv file was made using a dictionaray which consists of only 5 words"
   ]
  },
  {
   "cell_type": "code",
   "execution_count": null,
   "metadata": {},
   "outputs": [],
   "source": [
    "import pandas as pd\n",
    "df = pd.DataFrame(pd.read_csv('./sgb-words.csv'))\n"
   ]
  },
  {
   "cell_type": "markdown",
   "metadata": {},
   "source": [
    "### Function to take input and return them"
   ]
  },
  {
   "cell_type": "code",
   "execution_count": null,
   "metadata": {},
   "outputs": [],
   "source": [
    "def input_taker():\n",
    "    first_word = input('Have you found first word?, press escape if not')\n",
    "    second_word = input('Have you found second word? press escape if not')\n",
    "    third_word = input('Have you found third word? press escape if not')\n",
    "    fourth_word = input('Have you found fourth word? press escape if not')\n",
    "    fifth_word = input('Have you found fifth word? press escape if not')\n",
    "    return(first_word, second_word, third_word, fourth_word, fifth_word)\n"
   ]
  },
  {
   "cell_type": "markdown",
   "metadata": {},
   "source": [
    "### Triggring the function and adding the data to the variables"
   ]
  },
  {
   "cell_type": "code",
   "execution_count": null,
   "metadata": {},
   "outputs": [],
   "source": [
    "first_word, second_word, third_word, fourth_word, fifth_word = input_taker()\n"
   ]
  },
  {
   "cell_type": "markdown",
   "metadata": {},
   "source": [
    "## Making array of words which consists the first word on first position"
   ]
  },
  {
   "cell_type": "code",
   "execution_count": null,
   "metadata": {},
   "outputs": [],
   "source": [
    "first_letter_array = []\n",
    "for i in range(len(df)):\n",
    "    if(df['Words'][i][0] == first_word):\n",
    "        first_letter_array.append(df['Words'][i])\n"
   ]
  },
  {
   "cell_type": "markdown",
   "metadata": {},
   "source": [
    "### Setting the first letter array to all possible words if the first word is not found"
   ]
  },
  {
   "cell_type": "code",
   "execution_count": null,
   "metadata": {},
   "outputs": [],
   "source": [
    "if(len(first_letter_array) == 0):\n",
    "    first_letter_array = df['Words']\n"
   ]
  },
  {
   "cell_type": "code",
   "execution_count": null,
   "metadata": {},
   "outputs": [],
   "source": [
    "second_letter_array = []\n",
    "for i in range(len(df)):\n",
    "    if(df['Words'][i][1] == second_word):\n",
    "        second_letter_array.append(df['Words'][i])\n"
   ]
  },
  {
   "cell_type": "code",
   "execution_count": null,
   "metadata": {},
   "outputs": [],
   "source": [
    "if(len(second_letter_array) == 0):\n",
    "    second_letter_array = df['Words']\n"
   ]
  },
  {
   "cell_type": "code",
   "execution_count": null,
   "metadata": {},
   "outputs": [],
   "source": [
    "third_letter_array = []\n",
    "for i in range(len(df)):\n",
    "    if(df['Words'][i][2] == third_word):\n",
    "        third_letter_array.append(df['Words'][i])\n"
   ]
  },
  {
   "cell_type": "code",
   "execution_count": null,
   "metadata": {},
   "outputs": [],
   "source": [
    "if(len(third_letter_array) == 0):\n",
    "    third_letter_array = df['Words']\n"
   ]
  },
  {
   "cell_type": "code",
   "execution_count": null,
   "metadata": {},
   "outputs": [],
   "source": [
    "fourth_letter_array = []\n",
    "for i in range(len(df)):\n",
    "    if(df['Words'][i][3] == fourth_word):\n",
    "        fourth_letter_array.append(df['Words'][i])\n"
   ]
  },
  {
   "cell_type": "code",
   "execution_count": null,
   "metadata": {},
   "outputs": [],
   "source": [
    "if(len(fourth_letter_array) == 0):\n",
    "    fourth_letter_array = df['Words']\n"
   ]
  },
  {
   "cell_type": "code",
   "execution_count": null,
   "metadata": {},
   "outputs": [],
   "source": [
    "fifth_letter_array = []\n",
    "for i in range(len(df)):\n",
    "    if(df['Words'][i][4] == fifth_word):\n",
    "        fifth_letter_array.append(df['Words'][i])\n"
   ]
  },
  {
   "cell_type": "code",
   "execution_count": null,
   "metadata": {},
   "outputs": [],
   "source": [
    "if(len(fifth_letter_array) == 0):\n",
    "    fifth_letter_array = df['Words']\n"
   ]
  },
  {
   "cell_type": "markdown",
   "metadata": {},
   "source": [
    "## Taking an intersection of 5 arrays"
   ]
  },
  {
   "cell_type": "code",
   "execution_count": null,
   "metadata": {},
   "outputs": [],
   "source": [
    "def final_array():\n",
    "    final = list(set(first_letter_array) & set(second_letter_array))\n",
    "    intermediate = list(set(fourth_letter_array) & set(third_letter_array))\n",
    "    final = list(set(final) & set(fifth_letter_array))\n",
    "    final = list(set(final) & set(intermediate))\n",
    "    return final\n",
    "\n",
    "\n",
    "possible_array = final_array()\n"
   ]
  },
  {
   "cell_type": "code",
   "execution_count": null,
   "metadata": {},
   "outputs": [],
   "source": [
    "if(len(possible_array) == 0):\n",
    "    print('Did not found any matching words :(')\n",
    "else:\n",
    "    print('The possible words are:', possible_array)\n"
   ]
  },
  {
   "cell_type": "markdown",
   "metadata": {},
   "source": [
    "## Making and array of words which are not in the final word"
   ]
  },
  {
   "cell_type": "code",
   "execution_count": null,
   "metadata": {},
   "outputs": [],
   "source": [
    "total_gray_letter = input(\n",
    "    \"enter number of words which are not in the target word\")\n",
    "if(len(total_gray_letter) == 0):\n",
    "    print('The possible words are:', possible_array)\n"
   ]
  },
  {
   "cell_type": "code",
   "execution_count": null,
   "metadata": {},
   "outputs": [],
   "source": [
    "gray_letters = []\n",
    "for i in range(int(total_gray_letter)):\n",
    "    gray_letters.append(\n",
    "        input(\"enter the letters which are not in the target word\"))\n"
   ]
  },
  {
   "cell_type": "code",
   "execution_count": null,
   "metadata": {},
   "outputs": [],
   "source": [
    "omitted_letter_array = []\n"
   ]
  },
  {
   "cell_type": "code",
   "execution_count": null,
   "metadata": {},
   "outputs": [],
   "source": [
    "for i in range(len(gray_letters)):\n",
    "    for k in range(len(possible_array)):\n",
    "        if(gray_letters[i] in possible_array[k]):\n",
    "            omitted_letter_array.append(possible_array[k])\n"
   ]
  },
  {
   "cell_type": "code",
   "execution_count": null,
   "metadata": {},
   "outputs": [],
   "source": [
    "omitted_letter_array = list(set(omitted_letter_array))\n"
   ]
  },
  {
   "cell_type": "markdown",
   "metadata": {},
   "source": [
    "### Function to remove common from omitted array and final array"
   ]
  },
  {
   "cell_type": "code",
   "execution_count": null,
   "metadata": {},
   "outputs": [],
   "source": [
    "def remove_common(a, b):\n",
    "\n",
    "    for i in a[:]:\n",
    "        if i in b:\n",
    "            a.remove(i)\n",
    "            b.remove(i)\n",
    "    return a\n"
   ]
  },
  {
   "cell_type": "code",
   "execution_count": null,
   "metadata": {},
   "outputs": [],
   "source": [
    "final = remove_common(possible_array, omitted_letter_array)\n"
   ]
  },
  {
   "cell_type": "code",
   "execution_count": null,
   "metadata": {},
   "outputs": [],
   "source": [
    "total_yellow_letter = input(\"enter number of yellow letters\")\n",
    "if(len(total_yellow_letter) == 0):\n",
    "    print('The possible words are:', possible_array)\n"
   ]
  },
  {
   "cell_type": "code",
   "execution_count": null,
   "metadata": {},
   "outputs": [],
   "source": [
    "yellow_letters = []\n",
    "for i in range(int(total_yellow_letter)):\n",
    "    yellow_letters.append(input(\"enter the yellow letters\"))\n"
   ]
  },
  {
   "cell_type": "markdown",
   "metadata": {},
   "source": [
    "## Keeping only words which contains yellow letters"
   ]
  },
  {
   "cell_type": "code",
   "execution_count": null,
   "metadata": {},
   "outputs": [],
   "source": [
    "end_list = []\n"
   ]
  },
  {
   "cell_type": "code",
   "execution_count": null,
   "metadata": {},
   "outputs": [],
   "source": [
    "counter = 0\n",
    "\n",
    "for word in final:\n",
    "    counter = 0\n",
    "    for char in word:\n",
    "        if char in yellow_letters:\n",
    "            counter+=1\n",
    "    if counter == len(yellow_letters):\n",
    "        end_list.append(word)"
   ]
  },
  {
   "cell_type": "markdown",
   "metadata": {},
   "source": [
    "# Final Output"
   ]
  },
  {
   "cell_type": "code",
   "execution_count": null,
   "metadata": {},
   "outputs": [],
   "source": [
    "print('All the possible words are: ', list(set(end_list)))\n"
   ]
  }
 ],
 "metadata": {
  "interpreter": {
   "hash": "87d9b9d1e678527538d8142a74b02950316a4861c664997bcf14b93b840e5ec0"
  },
  "kernelspec": {
   "display_name": "Python 3.9.5 64-bit",
   "language": "python",
   "name": "python3"
  },
  "language_info": {
   "codemirror_mode": {
    "name": "ipython",
    "version": 3
   },
   "file_extension": ".py",
   "mimetype": "text/x-python",
   "name": "python",
   "nbconvert_exporter": "python",
   "pygments_lexer": "ipython3",
   "version": "3.9.5"
  },
  "orig_nbformat": 4
 },
 "nbformat": 4,
 "nbformat_minor": 2
}
